{
 "cells": [
  {
   "cell_type": "code",
   "execution_count": 1,
   "id": "86eecc63",
   "metadata": {},
   "outputs": [],
   "source": [
    "import pandas as pd\n",
    "import matplotlib"
   ]
  },
  {
   "cell_type": "code",
   "execution_count": 2,
   "id": "6f539d33",
   "metadata": {},
   "outputs": [],
   "source": [
    "file = 'EducationNHES2019/nhes_19_ecpp_v1_0.csv'"
   ]
  },
  {
   "cell_type": "code",
   "execution_count": 3,
   "id": "c4374972",
   "metadata": {},
   "outputs": [
    {
     "name": "stdout",
     "output_type": "stream",
     "text": [
      "        BASMID  RCNOW  RCWEEK  RCTYPE  RCAGE  RCPLACE  RCTIME  RCDAYS  RCHRS  \\\n",
      "0  20191000097      2      -1      -1     -1       -1      -1      -1     -1   \n",
      "1  20191000098      2      -1      -1     -1       -1      -1      -1     -1   \n",
      "2  20191000116      2      -1      -1     -1       -1      -1      -1     -1   \n",
      "3  20191000180      1       1       1     73        2       2       1      3   \n",
      "4  20191000254      2      -1      -1     -1       -1      -1      -1     -1   \n",
      "\n",
      "   RCCVRWK  ...  F_TTLHHINC  F_OWNRNTHB  F_HVINTSPHO  F_HVINTCOM  F_CHLDNT  \\\n",
      "0       -1  ...           0           0            0           0         0   \n",
      "1       -1  ...           0           0            0           0         0   \n",
      "2       -1  ...           0           0            0           0         0   \n",
      "3        1  ...           0           0            0           0         0   \n",
      "4       -1  ...           0           0            0           0         0   \n",
      "\n",
      "   F_LRNCOMP  F_LRNTAB  F_LRNCELL  F_HHUNID  F_ZIPLOCL  \n",
      "0          0         0          0         0          0  \n",
      "1         -1        -1         -1         0          0  \n",
      "2          0         0          1         0          0  \n",
      "3          0         0          0         0          0  \n",
      "4         -1        -1         -1         0          0  \n",
      "\n",
      "[5 rows x 625 columns]\n"
     ]
    }
   ],
   "source": [
    "df = pd.read_csv(file)\n",
    "print(df.head())"
   ]
  },
  {
   "cell_type": "code",
   "execution_count": 4,
   "id": "421a1e34",
   "metadata": {},
   "outputs": [
    {
     "name": "stdout",
     "output_type": "stream",
     "text": [
      "['BASMID', 'RCNOW', 'RCWEEK', 'RCTYPE', 'RCAGE', 'RCPLACE', 'RCTIME', 'RCDAYS', 'RCHRS', 'RCCVRWK', 'RCSTRTY', 'RCSTRTM', 'RCSPEAK', 'RCSKNFV', 'RCSKFV', 'RCOTCH', 'RCFEE', 'RCREL', 'RCTANF', 'RCSSAC', 'RCEMPL', 'RCOTHER', 'RCCOST', 'RCUNIT', 'RCCSTHNX', 'RCOTHC', 'RCTLHR', 'NCNOW', 'NCWEEK', 'NCINHH', 'NCPLACE', 'NCTIME', 'NCDAYS', 'NCHRS', 'NCCVRWK', 'NCSTRTY', 'NCSTRTM', 'NCALKNE', 'NCAGE', 'NCSPEAK', 'NCSKNFV', 'NCSKFV', 'NCOTCH', 'NCRCMDPT', 'NCFEE', 'NCREL', 'NCTANF', 'NCSSAC', 'NCEMPL', 'NCOTHER', 'NCCOST', 'NCUNIT', 'NCCSTHNX', 'NCOTHC', 'NCTLHR', 'CPNNOWX', 'CPWEEKX', 'CPPLACEX', 'CPSPRLG', 'CPWORK', 'CPHEADST', 'CPDAYS', 'CPHRS', 'CPCVRWK', 'CPSTRTY', 'CPSTRTM', 'CPSPEAK', 'CPTIME', 'CPRCMDPT', 'CPTEST', 'CPPHYSE', 'CPDENTA', 'CPDISAB', 'CPMEDAM', 'CPSKNFV', 'CPSKFV', 'CPFEE', 'CPREL', 'CPTANF', 'CPSSAC', 'CPEMPL', 'CPOTHER', 'CPCOST', 'CPUNIT', 'CPCSTHNX', 'CPOTHC', 'CPTLHR', 'PCEVRHDX', 'MAINRESN', 'PPCHOIC', 'CRSRCH', 'PPDIFCLT', 'WHYDIFCLT', 'CCPY', 'CCREASN1', 'CCREASN2', 'CCREASN3', 'CCREASN4', 'CCREASN5', 'DCLOA', 'DCOST', 'DRELY', 'DLERN', 'DCHIL', 'DHROP', 'DNBGRP', 'DRTWEB', 'DRECFAM', 'DQUAL', 'DRELOR', 'HABOOKS', 'FOREADTOX', 'FORDDAYX', 'FOSTORYX', 'FOWORDSX', 'FOSANG', 'FOCRAFTSX', 'FODINNERX', 'FOLIBRAY', 'FOBOOKST', 'DPIAGE', 'DPLETTER', 'DPNAME', 'DPLTRSND', 'DPEXPLN', 'DPCOUNT', 'DPSHAPE', 'HDHEALTH', 'HDINTDIS', 'HDSPEECHX', 'HDDISTRBX', 'HDDEAFIMX', 'HDBLINDX', 'HDORTHOX', 'HDAUTISMX', 'HDPDDX', 'HDADDX', 'HDLEARNX', 'HDDELAYX', 'HDTRBRAIN', 'HDOTHERX', 'HDDLYRSK', 'HDIFSPIEP', 'HDCOMMUX', 'HDSPCLED', 'HDLEARN', 'HDPLAY', 'HDOUT', 'HDFRNDS', 'HDCHDCARE', 'CDOBMM', 'CDOBYY', 'CPLCBRTH', 'CMOVEAGE', 'CHISPAN', 'CAMIND', 'CASIAN', 'CBLACK', 'CPACI', 'CWHITE', 'CHISPRM', 'CSEX', 'CLIVYN', 'CLIVELSWX', 'CSPEAKX', 'CENGLPRG', 'HHTOTALXX', 'HHBROSX', 'HHSISSX', 'HHMOM', 'HHDAD', 'HHAUNTSX', 'HHUNCLSX', 'HHGMASX', 'HHGPASX', 'HHCSNSX', 'HHPRTNRSX', 'HHORELSX', 'HHONRELSX', 'RELATION', 'HHENGLISH', 'HHSPANISH', 'HHFRENCH', 'HHCHINESE', 'HHOTHLANG', 'P1REL', 'P1SEX', 'P1MRSTA', 'P1BFGF', 'P1FRLNG', 'P1SPEAK', 'P1PLCBRTH', 'P1AGEMV', 'P1HISPAN', 'P1AMIND', 'P1ASIAN', 'P1BLACK', 'P1PACI', 'P1WHITE', 'P1HISPRM', 'P1EDUC', 'P1ENRL', 'P1EMPL', 'P1HRSWK', 'P1LKWRK', 'P1MTHSWRK', 'P1AGE', 'P2GUARD', 'P2REL', 'P2SEX', 'P2MRSTA', 'P2BFGF', 'P2FRLNG', 'P2SPEAK', 'P2PLCBRTH', 'P2AGEMV', 'P2HISPAN', 'P2AMIND', 'P2ASIAN', 'P2BLACK', 'P2PACI', 'P2WHITE', 'P2HISPRM', 'P2EDUC', 'P2ENRL', 'P2EMPL', 'P2HRSWK', 'P2LKWRK', 'P2MTHSWRK', 'P2AGE', 'HWELFTANST', 'HWIC', 'HFOODST', 'HMEDICAID', 'HCHIP', 'HSECN8', 'TTLHHINC', 'OWNRNTHB', 'HVINTSPHO', 'HVINTCOM', 'CHLDNT', 'LRNCOMP', 'LRNTAB', 'LRNCELL', 'DSBLTY', 'PAR1EDUC', 'PAR1EMPL', 'PAR1FTFY', 'PAR1MARST', 'PAR1TYPE', 'PAR1FSTGN', 'PAR2EDUC', 'PAR2EMPL', 'PAR2FTFY', 'PAR2MARST', 'PAR2TYPE', 'PAR2FSTGN', 'HHPARN19X', 'HHPARN19_BRD', 'NUMSIBSX', 'FAMILY19X', 'FAMILY19_BRD', 'HHUNDR6X', 'HHUNDR10X', 'HHUNDR16X', 'HHUNDR18X', 'HHUNID', 'LANGUAGEX', 'PARGRADEX', 'RACEETH', 'RACEETH2', 'INTACC', 'ANYCAREX', 'ANYCARE2X', 'CAREHOURX', 'CPARRNEWX', 'MOSTHRSX', 'NCARRNEWX', 'RCARRNEWX', 'CENREG', 'ZIP18PO2', 'ZIPBLHI2', 'ZIPLOCL', 'ENGLSPANX', 'AGE2018', 'MODECOMP', 'CHAGE1', 'CHAGE2', 'CHAGE3', 'CHAGE4', 'CHSEX1', 'CHSEX2', 'CHSEX3', 'CHSEX4', 'CHENRL1', 'CHENRL2', 'CHENRL3', 'CHENRL4', 'CHGRD1', 'CHGRD2', 'CHGRD3', 'CHGRD4', 'EPSU', 'ESTRATUM', 'FEWT', 'FEWT1', 'FEWT2', 'FEWT3', 'FEWT4', 'FEWT5', 'FEWT6', 'FEWT7', 'FEWT8', 'FEWT9', 'FEWT10', 'FEWT11', 'FEWT12', 'FEWT13', 'FEWT14', 'FEWT15', 'FEWT16', 'FEWT17', 'FEWT18', 'FEWT19', 'FEWT20', 'FEWT21', 'FEWT22', 'FEWT23', 'FEWT24', 'FEWT25', 'FEWT26', 'FEWT27', 'FEWT28', 'FEWT29', 'FEWT30', 'FEWT31', 'FEWT32', 'FEWT33', 'FEWT34', 'FEWT35', 'FEWT36', 'FEWT37', 'FEWT38', 'FEWT39', 'FEWT40', 'FEWT41', 'FEWT42', 'FEWT43', 'FEWT44', 'FEWT45', 'FEWT46', 'FEWT47', 'FEWT48', 'FEWT49', 'FEWT50', 'FEWT51', 'FEWT52', 'FEWT53', 'FEWT54', 'FEWT55', 'FEWT56', 'FEWT57', 'FEWT58', 'FEWT59', 'FEWT60', 'FEWT61', 'FEWT62', 'FEWT63', 'FEWT64', 'FEWT65', 'FEWT66', 'FEWT67', 'FEWT68', 'FEWT69', 'FEWT70', 'FEWT71', 'FEWT72', 'FEWT73', 'FEWT74', 'FEWT75', 'FEWT76', 'FEWT77', 'FEWT78', 'FEWT79', 'FEWT80', 'F_RCNOW', 'F_RCWEEK', 'F_RCTYPE', 'F_RCAGE', 'F_RCPLACE', 'F_RCTIME', 'F_RCDAYS', 'F_RCHRS', 'F_RCCVRWK', 'F_RCSTRTY', 'F_RCSTRTM', 'F_RCSPEAK', 'F_RCSKNFV', 'F_RCSKFV', 'F_RCOTCH', 'F_RCFEE', 'F_RCREL', 'F_RCTANF', 'F_RCSSAC', 'F_RCEMPL', 'F_RCOTHER', 'F_RCCOST', 'F_RCUNIT', 'F_RCCSTHNX', 'F_RCOTHC', 'F_RCTLHR', 'F_NCNOW', 'F_NCWEEK', 'F_NCINHH', 'F_NCPLACE', 'F_NCTIME', 'F_NCDAYS', 'F_NCHRS', 'F_NCCVRWK', 'F_NCSTRTY', 'F_NCSTRTM', 'F_NCALKNE', 'F_NCAGE', 'F_NCSPEAK', 'F_NCSKNFV', 'F_NCSKFV', 'F_NCOTCH', 'F_NCRCMDPT', 'F_NCFEE', 'F_NCREL', 'F_NCTANF', 'F_NCSSAC', 'F_NCEMPL', 'F_NCOTHER', 'F_NCCOST', 'F_NCUNIT', 'F_NCCSTHNX', 'F_NCOTHC', 'F_NCTLHR', 'F_CPNNOWX', 'F_CPWEEKX', 'F_CPPLACEX', 'F_CPSPRLG', 'F_CPWORK', 'F_CPHEADST', 'F_CPDAYS', 'F_CPHRS', 'F_CPCVRWK', 'F_CPSTRTY', 'F_CPSTRTM', 'F_CPSPEAK', 'F_CPTIME', 'F_CPRCMDPT', 'F_CPTEST', 'F_CPPHYSE', 'F_CPDENTA', 'F_CPDISAB', 'F_CPMEDAM', 'F_CPSKNFV', 'F_CPSKFV', 'F_CPFEE', 'F_CPREL', 'F_CPTANF', 'F_CPSSAC', 'F_CPEMPL', 'F_CPOTHER', 'F_CPCOST', 'F_CPUNIT', 'F_CPCSTHNX', 'F_CPOTHC', 'F_CPTLHR', 'F_PCEVRHDX', 'F_MAINRESN', 'F_PPCHOIC', 'F_CRSRCH', 'F_PPDIFCLT', 'F_WHYDIFCLT', 'F_CCPY', 'F_DCLOA', 'F_DCOST', 'F_DRELY', 'F_DLERN', 'F_DCHIL', 'F_DHROP', 'F_DNBGRP', 'F_DRTWEB', 'F_DRECFAM', 'F_DQUAL', 'F_DRELOR', 'F_HABOOKS', 'F_FOREADTOX', 'F_FORDDAYX', 'F_FOSTORYX', 'F_FOWORDSX', 'F_FOSANG', 'F_FOCRAFTSX', 'F_FODINNERX', 'F_FOLIBRAY', 'F_FOBOOKST', 'F_DPIAGE', 'F_DPLETTER', 'F_DPNAME', 'F_DPLTRSND', 'F_DPEXPLN', 'F_DPCOUNT', 'F_DPSHAPE', 'F_HDHEALTH', 'F_HDINTDIS', 'F_HDSPEECHX', 'F_HDDISTRBX', 'F_HDDEAFIMX', 'F_HDBLINDX', 'F_HDORTHOX', 'F_HDAUTISMX', 'F_HDPDDX', 'F_HDADDX', 'F_HDLEARNX', 'F_HDDELAYX', 'F_HDTRBRAIN', 'F_HDOTHERX', 'F_HDDLYRSK', 'F_HDIFSPIEP', 'F_HDCOMMUX', 'F_HDSPCLED', 'F_HDLEARN', 'F_HDPLAY', 'F_HDOUT', 'F_HDFRNDS', 'F_HDCHDCARE', 'F_CDOBMM', 'F_CDOBYY', 'F_CPLCBRTH', 'F_CMOVEAGE', 'F_CHISPAN', 'F_CAMIND', 'F_CASIAN', 'F_CBLACK', 'F_CPACI', 'F_CWHITE', 'F_CHISPRM', 'F_CSEX', 'F_CLIVYN', 'F_CLIVELSWX', 'F_CSPEAKX', 'F_CENGLPRG', 'F_HHTOTALXX', 'F_HHBROSX', 'F_HHSISSX', 'F_HHMOM', 'F_HHDAD', 'F_HHAUNTSX', 'F_HHUNCLSX', 'F_HHGMASX', 'F_HHGPASX', 'F_HHCSNSX', 'F_HHPRTNRSX', 'F_HHORELSX', 'F_HHONRELSX', 'F_RELATION', 'F_HHENGLISH', 'F_HHSPANISH', 'F_HHFRENCH', 'F_HHCHINESE', 'F_HHOTHLANG', 'F_P1REL', 'F_P1SEX', 'F_P1MRSTA', 'F_P1BFGF', 'F_P1FRLNG', 'F_P1SPEAK', 'F_P1PLCBRTH', 'F_P1AGEMV', 'F_P1HISPAN', 'F_P1AMIND', 'F_P1ASIAN', 'F_P1BLACK', 'F_P1PACI', 'F_P1WHITE', 'F_P1HISPRM', 'F_P1EDUC', 'F_P1ENRL', 'F_P1EMPL', 'F_P1HRSWK', 'F_P1LKWRK', 'F_P1MTHSWRK', 'F_P1AGE', 'F_P2GUARD', 'F_P2REL', 'F_P2SEX', 'F_P2MRSTA', 'F_P2BFGF', 'F_P2FRLNG', 'F_P2SPEAK', 'F_P2PLCBRTH', 'F_P2AGEMV', 'F_P2HISPAN', 'F_P2AMIND', 'F_P2ASIAN', 'F_P2BLACK', 'F_P2PACI', 'F_P2WHITE', 'F_P2HISPRM', 'F_P2EDUC', 'F_P2ENRL', 'F_P2EMPL', 'F_P2HRSWK', 'F_P2LKWRK', 'F_P2MTHSWRK', 'F_P2AGE', 'F_HWELFTANST', 'F_HWIC', 'F_HFOODST', 'F_HMEDICAID', 'F_HCHIP', 'F_HSECN8', 'F_TTLHHINC', 'F_OWNRNTHB', 'F_HVINTSPHO', 'F_HVINTCOM', 'F_CHLDNT', 'F_LRNCOMP', 'F_LRNTAB', 'F_LRNCELL', 'F_HHUNID', 'F_ZIPLOCL']\n",
      "7092\n",
      "625\n"
     ]
    }
   ],
   "source": [
    "print(list(df))\n",
    "print(len(df))\n",
    "print(len(list(df)))"
   ]
  },
  {
   "cell_type": "code",
   "execution_count": 5,
   "id": "2bd7d8c2",
   "metadata": {},
   "outputs": [
    {
     "name": "stdout",
     "output_type": "stream",
     "text": [
      "   Relative relation to child  freq\n",
      "0                          -1  5403\n",
      "1                           1  1452\n",
      "2                           2   127\n",
      "4                           3    35\n",
      "3                           4    75\n"
     ]
    }
   ],
   "source": [
    "col = 'RCTYPE'\n",
    "col_name = 'Relative relation to child'\n",
    "freq = df[col].value_counts().rename_axis(col_name).reset_index(name='freq')\n",
    "freq = freq.sort_values(by = col_name)\n",
    "print(freq)"
   ]
  },
  {
   "cell_type": "code",
   "execution_count": 6,
   "id": "e8ce6aba",
   "metadata": {},
   "outputs": [
    {
     "name": "stdout",
     "output_type": "stream",
     "text": [
      "  Relative relation to child  freq\n",
      "0                 Valid Skip  5403\n",
      "1    Grandmother/Grandfather  1452\n",
      "2                 Aunt/Uncle   127\n",
      "4             Brother/Sister    35\n",
      "3           Another relative    75\n"
     ]
    }
   ],
   "source": [
    "codebook = [['1', 'Grandmother/Grandfather'], \n",
    "            ['2', 'Aunt/Uncle'], \n",
    "            ['3', 'Brother/Sister'],\n",
    "            ['4', 'Another relative'],\n",
    "            ['-1', 'Valid Skip']]\n",
    "for lbl in codebook:\n",
    "    freq[col_name] = freq[col_name].replace(int(lbl[0]), lbl[1])\n",
    "print(freq)"
   ]
  },
  {
   "cell_type": "code",
   "execution_count": 7,
   "id": "db9f3e9f",
   "metadata": {},
   "outputs": [
    {
     "data": {
      "image/png": "[encoded data removed]",
      "text/plain": [
       "<Figure size 432x288 with 1 Axes>"
      ]
     },
     "metadata": {
      "needs_background": "light"
     },
     "output_type": "display_data"
    }
   ],
   "source": [
    "ax = freq.plot.barh(x=col_name, y='freq', color=\"pink\", rot=45)"
   ]
  }
 ],
 "metadata": {
  "kernelspec": {
   "display_name": "Python 3 (ipykernel)",
   "language": "python",
   "name": "python3"
  },
  "language_info": {
   "codemirror_mode": {
    "name": "ipython",
    "version": 3
   },
   "file_extension": ".py",
   "mimetype": "text/x-python",
   "name": "python",
   "nbconvert_exporter": "python",
   "pygments_lexer": "ipython3",
   "version": "3.9.12"
  }
 },
 "nbformat": 4,
 "nbformat_minor": 5
}
